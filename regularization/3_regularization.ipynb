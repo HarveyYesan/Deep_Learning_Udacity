{
 "cells": [
  {
   "cell_type": "markdown",
   "metadata": {
    "colab_type": "text",
    "id": "kR-4eNdK6lYS"
   },
   "source": [
    "Deep Learning\n",
    "=============\n",
    "\n",
    "Assignment 3\n",
    "------------\n",
    "\n",
    "Previously in `2_fullyconnected.ipynb`, you trained a logistic regression and a neural network model.\n",
    "\n",
    "The goal of this assignment is to explore regularization techniques."
   ]
  },
  {
   "cell_type": "code",
   "execution_count": 42,
   "metadata": {
    "cellView": "both",
    "colab": {
     "autoexec": {
      "startup": false,
      "wait_interval": 0
     }
    },
    "colab_type": "code",
    "id": "JLpLa8Jt7Vu4"
   },
   "outputs": [],
   "source": [
    "# These are all the modules we'll be using later. Make sure you can import them\n",
    "# before proceeding further.\n",
    "from __future__ import print_function\n",
    "import numpy as np\n",
    "import tensorflow as tf\n",
    "from six.moves import cPickle as pickle"
   ]
  },
  {
   "cell_type": "markdown",
   "metadata": {
    "colab_type": "text",
    "id": "1HrCK6e17WzV"
   },
   "source": [
    "First reload the data we generated in `1_notmnist.ipynb`."
   ]
  },
  {
   "cell_type": "code",
   "execution_count": 43,
   "metadata": {
    "cellView": "both",
    "colab": {
     "autoexec": {
      "startup": false,
      "wait_interval": 0
     },
     "output_extras": [
      {
       "item_id": 1
      }
     ]
    },
    "colab_type": "code",
    "executionInfo": {
     "elapsed": 11777,
     "status": "ok",
     "timestamp": 1449849322348,
     "user": {
      "color": "",
      "displayName": "",
      "isAnonymous": false,
      "isMe": true,
      "permissionId": "",
      "photoUrl": "",
      "sessionId": "0",
      "userId": ""
     },
     "user_tz": 480
    },
    "id": "y3-cj1bpmuxc",
    "outputId": "e03576f1-ebbe-4838-c388-f1777bcc9873"
   },
   "outputs": [
    {
     "name": "stdout",
     "output_type": "stream",
     "text": [
      "Training set (200000, 28, 28) (200000,)\n",
      "Validation set (10000, 28, 28) (10000,)\n",
      "Test set (10000, 28, 28) (10000,)\n"
     ]
    }
   ],
   "source": [
    "pickle_file = 'notMNIST.pickle'\n",
    "\n",
    "with open(pickle_file, 'rb') as f:\n",
    "  save = pickle.load(f)\n",
    "  train_dataset = save['train_dataset']\n",
    "  train_labels = save['train_labels']\n",
    "  valid_dataset = save['valid_dataset']\n",
    "  valid_labels = save['valid_labels']\n",
    "  test_dataset = save['test_dataset']\n",
    "  test_labels = save['test_labels']\n",
    "  del save  # hint to help gc free up memory\n",
    "  print('Training set', train_dataset.shape, train_labels.shape)\n",
    "  print('Validation set', valid_dataset.shape, valid_labels.shape)\n",
    "  print('Test set', test_dataset.shape, test_labels.shape)"
   ]
  },
  {
   "cell_type": "markdown",
   "metadata": {
    "colab_type": "text",
    "id": "L7aHrm6nGDMB"
   },
   "source": [
    "Reformat into a shape that's more adapted to the models we're going to train:\n",
    "- data as a flat matrix,\n",
    "- labels as float 1-hot encodings."
   ]
  },
  {
   "cell_type": "code",
   "execution_count": 44,
   "metadata": {
    "cellView": "both",
    "colab": {
     "autoexec": {
      "startup": false,
      "wait_interval": 0
     },
     "output_extras": [
      {
       "item_id": 1
      }
     ]
    },
    "colab_type": "code",
    "executionInfo": {
     "elapsed": 11728,
     "status": "ok",
     "timestamp": 1449849322356,
     "user": {
      "color": "",
      "displayName": "",
      "isAnonymous": false,
      "isMe": true,
      "permissionId": "",
      "photoUrl": "",
      "sessionId": "0",
      "userId": ""
     },
     "user_tz": 480
    },
    "id": "IRSyYiIIGIzS",
    "outputId": "3f8996ee-3574-4f44-c953-5c8a04636582"
   },
   "outputs": [
    {
     "name": "stdout",
     "output_type": "stream",
     "text": [
      "Training set (200000, 784) (200000, 10)\n",
      "Validation set (10000, 784) (10000, 10)\n",
      "Test set (10000, 784) (10000, 10)\n"
     ]
    }
   ],
   "source": [
    "image_size = 28\n",
    "num_labels = 10\n",
    "\n",
    "def reformat(dataset, labels):\n",
    "  dataset = dataset.reshape((-1, image_size * image_size)).astype(np.float32)\n",
    "  # Map 1 to [0.0, 1.0, 0.0 ...], 2 to [0.0, 0.0, 1.0 ...]\n",
    "  labels = (np.arange(num_labels) == labels[:,None]).astype(np.float32)\n",
    "  return dataset, labels\n",
    "train_dataset, train_labels = reformat(train_dataset, train_labels)\n",
    "valid_dataset, valid_labels = reformat(valid_dataset, valid_labels)\n",
    "test_dataset, test_labels = reformat(test_dataset, test_labels)\n",
    "print('Training set', train_dataset.shape, train_labels.shape)\n",
    "print('Validation set', valid_dataset.shape, valid_labels.shape)\n",
    "print('Test set', test_dataset.shape, test_labels.shape)"
   ]
  },
  {
   "cell_type": "code",
   "execution_count": 45,
   "metadata": {
    "cellView": "both",
    "colab": {
     "autoexec": {
      "startup": false,
      "wait_interval": 0
     }
    },
    "colab_type": "code",
    "id": "RajPLaL_ZW6w"
   },
   "outputs": [],
   "source": [
    "def accuracy(predictions, labels):\n",
    "  return (100.0 * np.sum(np.argmax(predictions, 1) == np.argmax(labels, 1))\n",
    "          / predictions.shape[0])"
   ]
  },
  {
   "cell_type": "markdown",
   "metadata": {
    "colab_type": "text",
    "id": "sgLbUAQ1CW-1"
   },
   "source": [
    "---\n",
    "Problem 1\n",
    "---------\n",
    "\n",
    "Introduce and tune L2 regularization for both logistic and neural network models. Remember that L2 amounts to adding a penalty on the norm of the weights to the loss. In TensorFlow, you can compute the L2 loss for a tensor `t` using `nn.l2_loss(t)`. The right amount of regularization should improve your validation / test accuracy.\n",
    "\n",
    "---"
   ]
  },
  {
   "cell_type": "code",
   "execution_count": 46,
   "metadata": {},
   "outputs": [],
   "source": [
    "#logistic regression with regularization\n",
    "batch_size = 128\n",
    "\n",
    "graph = tf.Graph()\n",
    "with graph.as_default():\n",
    "    # input data, for the traning data, we use placeholder\n",
    "    tf_train_dataset = tf.placeholder(tf.float32, shape = (batch_size, image_size*image_size))\n",
    "    tf_train_labels = tf.placeholder(tf.float32, shape = (batch_size, num_labels))\n",
    "    tf_valid_dataset = tf.constant(valid_dataset)\n",
    "    tf_test_dataset = tf.constant(test_dataset)\n",
    "    \n",
    "    # Variables: init wights and bias\n",
    "    weights = tf.Variable(tf.truncated_normal([image_size*image_size, num_labels]))\n",
    "    bias = tf.Variable(tf.zeros([num_labels]))\n",
    "    lamda = tf.placeholder(tf.float32)\n",
    "\n",
    "    # training computation\n",
    "    logits = tf.matmul(tf_train_dataset, weights) + bias\n",
    "    loss = tf.reduce_mean(tf.nn.softmax_cross_entropy_with_logits(\n",
    "           labels = tf_train_labels, logits = logits)+lamda*tf.nn.l2_loss(weights))\n",
    "    \n",
    "    # optimizer\n",
    "    Optimizer = tf.train.GradientDescentOptimizer(0.5).minimize(loss)\n",
    "    \n",
    "    # predictions for train, valid, test data\n",
    "    train_prediction = tf.nn.softmax(logits)\n",
    "    valid_prediction = tf.nn.softmax(tf.matmul(tf_valid_dataset, weights)+bias)\n",
    "    test_prediction = tf.nn.softmax(tf.matmul(tf_test_dataset, weights)+bias)"
   ]
  },
  {
   "cell_type": "code",
   "execution_count": 47,
   "metadata": {},
   "outputs": [
    {
     "name": "stdout",
     "output_type": "stream",
     "text": [
      "Initialized\n",
      "Minibatch loss at step 0: 20.705973\n",
      "Minibatch accuracy: 9.4%\n",
      "validation accuracy: 12.3%\n",
      "Minibatch loss at step 500: 2.914000\n",
      "Minibatch accuracy: 75.8%\n",
      "validation accuracy: 75.9%\n",
      "Minibatch loss at step 1000: 1.842687\n",
      "Minibatch accuracy: 73.4%\n",
      "validation accuracy: 78.3%\n",
      "Minibatch loss at step 1500: 1.325582\n",
      "Minibatch accuracy: 75.8%\n",
      "validation accuracy: 79.7%\n",
      "Minibatch loss at step 2000: 1.132229\n",
      "Minibatch accuracy: 79.7%\n",
      "validation accuracy: 80.3%\n",
      "Minibatch loss at step 2500: 0.801492\n",
      "Minibatch accuracy: 83.6%\n",
      "validation accuracy: 81.2%\n",
      "Minibatch loss at step 3000: 0.946237\n",
      "Minibatch accuracy: 76.6%\n",
      "validation accuracy: 81.3%\n",
      "Test accuracy: 88.2%\n"
     ]
    }
   ],
   "source": [
    "num_steps = 3001\n",
    "\n",
    "with tf.Session(graph=graph) as session:\n",
    "    tf.global_variables_initializer().run()\n",
    "    print(\"Initialized\")\n",
    "    for step in range(num_steps):\n",
    "        # pick offset for random batch\n",
    "        offset = (step * batch_size) % (train_labels.shape[0] - batch_size)\n",
    "        # generate minibatch\n",
    "        batch_data = train_dataset[offset:(offset+batch_size),:]\n",
    "        batch_labels = train_labels[offset:(offset+batch_size),:]\n",
    "        feed_dict = {tf_train_dataset:batch_data, tf_train_labels:batch_labels, lamda:0.001}\n",
    "        \n",
    "        _, l, predict = session.run([Optimizer, loss, train_prediction], feed_dict = feed_dict)\n",
    "        \n",
    "        if (step%500 == 0):\n",
    "            print(\"Minibatch loss at step %d: %f\" % (step, l))\n",
    "            print(\"Minibatch accuracy: %.1f%%\" % accuracy(predict, batch_labels))\n",
    "            print(\"validation accuracy: %.1f%%\" % accuracy(valid_prediction.eval(), valid_labels))\n",
    "    print(\"Test accuracy: %.1f%%\" % accuracy(test_prediction.eval(), test_labels))"
   ]
  },
  {
   "cell_type": "code",
   "execution_count": 48,
   "metadata": {},
   "outputs": [],
   "source": [
    "#neural network with regularization\n",
    "batch_size = 128\n",
    "hidden_nodes = 1024\n",
    "\n",
    "graph = tf.Graph()\n",
    "with graph.as_default():\n",
    "    # input data, for the traning data, we use placeholder\n",
    "    tf_train_dataset = tf.placeholder(tf.float32, shape = (batch_size, image_size*image_size))\n",
    "    tf_train_labels = tf.placeholder(tf.float32, shape = (batch_size, num_labels))\n",
    "    tf_valid_dataset = tf.constant(valid_dataset)\n",
    "    tf_test_dataset = tf.constant(test_dataset)\n",
    "    \n",
    "    # Variables: init wights and bias\n",
    "    # Variables.\n",
    "    W1 = tf.Variable(tf.truncated_normal([image_size * image_size, hidden_nodes]))\n",
    "    b1 = tf.Variable(tf.zeros([hidden_nodes]))\n",
    "\n",
    "    W2 = tf.Variable(tf.truncated_normal([hidden_nodes, num_labels]))\n",
    "    b2 = tf.Variable(tf.zeros([num_labels]))\n",
    "    \n",
    "    lamda = tf.placeholder(tf.float32)\n",
    "\n",
    "    # training computation\n",
    "    A1 = tf.nn.relu(tf.add(tf.matmul(tf_train_dataset, W1), b1))\n",
    "    logits = tf.add(tf.matmul(A1, W2), b2)\n",
    "    loss = tf.reduce_mean(tf.nn.softmax_cross_entropy_with_logits(\n",
    "           labels = tf_train_labels, logits = logits))+lamda*(tf.nn.l2_loss(W1)+tf.nn.l2_loss(W2))\n",
    "    \n",
    "    # optimizer\n",
    "    Optimizer = tf.train.GradientDescentOptimizer(0.5).minimize(loss)\n",
    "    \n",
    "    # predictions for train, valid, test data\n",
    "    train_prediction = tf.nn.softmax(logits)\n",
    "    valid_activ = tf.nn.relu(tf.matmul(tf_valid_dataset, W1)+b1)\n",
    "    valid_prediction = tf.nn.softmax(tf.matmul(valid_activ, W2)+b2)\n",
    "    test_activ = tf.nn.relu(tf.matmul(tf_test_dataset, W1)+b1)\n",
    "    test_prediction = tf.nn.softmax(tf.matmul(test_activ, W2)+b2)"
   ]
  },
  {
   "cell_type": "code",
   "execution_count": 49,
   "metadata": {},
   "outputs": [
    {
     "name": "stdout",
     "output_type": "stream",
     "text": [
      "Initialized\n",
      "Minibatch loss at step 0: 660.869263\n",
      "Minibatch accuracy: 9.4%\n",
      "validation accuracy: 29.7%\n",
      "Minibatch loss at step 500: 194.744293\n",
      "Minibatch accuracy: 81.2%\n",
      "validation accuracy: 80.7%\n",
      "Minibatch loss at step 1000: 115.107536\n",
      "Minibatch accuracy: 78.9%\n",
      "validation accuracy: 81.8%\n",
      "Minibatch loss at step 1500: 68.584435\n",
      "Minibatch accuracy: 82.8%\n",
      "validation accuracy: 82.3%\n",
      "Minibatch loss at step 2000: 41.431015\n",
      "Minibatch accuracy: 85.9%\n",
      "validation accuracy: 85.0%\n",
      "Minibatch loss at step 2500: 25.138103\n",
      "Minibatch accuracy: 89.1%\n",
      "validation accuracy: 85.8%\n",
      "Minibatch loss at step 3000: 15.611264\n",
      "Minibatch accuracy: 84.4%\n",
      "validation accuracy: 87.1%\n",
      "Test accuracy: 92.8%\n"
     ]
    }
   ],
   "source": [
    "num_steps = 3001\n",
    "\n",
    "with tf.Session(graph=graph) as session:\n",
    "    tf.global_variables_initializer().run()\n",
    "    print(\"Initialized\")\n",
    "    for step in range(num_steps):\n",
    "        # pick offset for random batch\n",
    "        offset = (step * batch_size) % (train_labels.shape[0] - batch_size)\n",
    "        # generate minibatch\n",
    "        batch_data = train_dataset[offset:(offset+batch_size),:]\n",
    "        batch_labels = train_labels[offset:(offset+batch_size),:]\n",
    "        feed_dict = {tf_train_dataset:batch_data, tf_train_labels:batch_labels, lamda:0.001}\n",
    "        \n",
    "        _, l, predict = session.run([Optimizer, loss, train_prediction], feed_dict = feed_dict)\n",
    "        \n",
    "        if (step%500 == 0):\n",
    "            print(\"Minibatch loss at step %d: %f\" % (step, l))\n",
    "            print(\"Minibatch accuracy: %.1f%%\" % accuracy(predict, batch_labels))\n",
    "            print(\"validation accuracy: %.1f%%\" % accuracy(valid_prediction.eval(), valid_labels))\n",
    "    print(\"Test accuracy: %.1f%%\" % accuracy(test_prediction.eval(), test_labels))"
   ]
  },
  {
   "cell_type": "markdown",
   "metadata": {
    "colab_type": "text",
    "id": "na8xX2yHZzNF"
   },
   "source": [
    "---\n",
    "Problem 2\n",
    "---------\n",
    "Let's demonstrate an extreme case of overfitting. Restrict your training data to just a few batches. What happens?\n",
    "\n",
    "---"
   ]
  },
  {
   "cell_type": "code",
   "execution_count": 50,
   "metadata": {},
   "outputs": [
    {
     "name": "stdout",
     "output_type": "stream",
     "text": [
      "Initialized\n",
      "Minibatch loss at step 0: 679.823608\n",
      "Minibatch accuracy: 10.2%\n",
      "validation accuracy: 30.9%\n",
      "Minibatch loss at step 500: 191.313065\n",
      "Minibatch accuracy: 99.2%\n",
      "validation accuracy: 77.0%\n",
      "Minibatch loss at step 1000: 115.795586\n",
      "Minibatch accuracy: 99.2%\n",
      "validation accuracy: 77.0%\n",
      "Minibatch loss at step 1500: 70.141396\n",
      "Minibatch accuracy: 99.2%\n",
      "validation accuracy: 77.0%\n",
      "Minibatch loss at step 2000: 42.507393\n",
      "Minibatch accuracy: 99.2%\n",
      "validation accuracy: 77.2%\n",
      "Minibatch loss at step 2500: 25.779673\n",
      "Minibatch accuracy: 100.0%\n",
      "validation accuracy: 77.8%\n",
      "Minibatch loss at step 3000: 15.643139\n",
      "Minibatch accuracy: 100.0%\n",
      "validation accuracy: 78.3%\n",
      "Test accuracy: 85.3%\n"
     ]
    }
   ],
   "source": [
    "num_steps = 3001\n",
    "\n",
    "with tf.Session(graph=graph) as session:\n",
    "    tf.global_variables_initializer().run()\n",
    "    print(\"Initialized\")\n",
    "    for step in range(num_steps):\n",
    "        # pick offset for random batch\n",
    "        offset = ((step%10) * batch_size) % (train_labels.shape[0] - batch_size)\n",
    "        # generate minibatch\n",
    "        batch_data = train_dataset[offset:(offset+batch_size),:]\n",
    "        batch_labels = train_labels[offset:(offset+batch_size),:]\n",
    "        feed_dict = {tf_train_dataset:batch_data, tf_train_labels:batch_labels, lamda:0.001}\n",
    "        \n",
    "        _, l, predict = session.run([Optimizer, loss, train_prediction], feed_dict = feed_dict)\n",
    "        \n",
    "        if (step%500 == 0):\n",
    "            print(\"Minibatch loss at step %d: %f\" % (step, l))\n",
    "            print(\"Minibatch accuracy: %.1f%%\" % accuracy(predict, batch_labels))\n",
    "            print(\"validation accuracy: %.1f%%\" % accuracy(valid_prediction.eval(), valid_labels))\n",
    "    print(\"Test accuracy: %.1f%%\" % accuracy(test_prediction.eval(), test_labels))"
   ]
  },
  {
   "cell_type": "markdown",
   "metadata": {
    "colab_type": "text",
    "id": "ww3SCBUdlkRc"
   },
   "source": [
    "---\n",
    "Problem 3\n",
    "---------\n",
    "Introduce Dropout on the hidden layer of the neural network. Remember: Dropout should only be introduced during training, not evaluation, otherwise your evaluation results would be stochastic as well. TensorFlow provides `nn.dropout()` for that, but you have to make sure it's only inserted during training.\n",
    "\n",
    "What happens to our extreme overfitting case?\n",
    "\n",
    "---"
   ]
  },
  {
   "cell_type": "code",
   "execution_count": 51,
   "metadata": {},
   "outputs": [],
   "source": [
    "#neural network with dropout\n",
    "batch_size = 128\n",
    "hidden_nodes = 1024\n",
    "\n",
    "graph = tf.Graph()\n",
    "with graph.as_default():\n",
    "    # input data, for the traning data, we use placeholder\n",
    "    tf_train_dataset = tf.placeholder(tf.float32, shape = (batch_size, image_size*image_size))\n",
    "    tf_train_labels = tf.placeholder(tf.float32, shape = (batch_size, num_labels))\n",
    "    tf_valid_dataset = tf.constant(valid_dataset)\n",
    "    tf_test_dataset = tf.constant(test_dataset)\n",
    "    \n",
    "    # Variables: init wights and bias\n",
    "    # Variables.\n",
    "    W1 = tf.Variable(tf.truncated_normal([image_size * image_size, hidden_nodes]))\n",
    "    b1 = tf.Variable(tf.zeros([hidden_nodes]))\n",
    "\n",
    "    W2 = tf.Variable(tf.truncated_normal([hidden_nodes, num_labels]))\n",
    "    b2 = tf.Variable(tf.zeros([num_labels]))\n",
    "    \n",
    "    lamda = tf.placeholder(tf.float32)\n",
    "    keep_prob = tf.placeholder(tf.float32)\n",
    "\n",
    "    # training computation\n",
    "    A1 = tf.nn.relu(tf.add(tf.matmul(tf_train_dataset, W1), b1))\n",
    "    A1 = tf.nn.dropout(A1, keep_prob)\n",
    "    logits = tf.add(tf.matmul(A1, W2), b2)\n",
    "    loss = tf.reduce_mean(tf.nn.softmax_cross_entropy_with_logits(\n",
    "           labels = tf_train_labels, logits = logits))+lamda*(tf.nn.l2_loss(W1)+tf.nn.l2_loss(W2))\n",
    "    \n",
    "    # optimizer\n",
    "    Optimizer = tf.train.GradientDescentOptimizer(0.5).minimize(loss)\n",
    "    \n",
    "    # predictions for train, valid, test data\n",
    "    train_prediction = tf.nn.softmax(logits)\n",
    "    #validation & test should be not dropout\n",
    "    valid_activ = tf.nn.relu(tf.matmul(tf_valid_dataset, W1)+b1)\n",
    "    valid_prediction = tf.nn.softmax(tf.matmul(valid_activ, W2)+b2)\n",
    "    test_activ = tf.nn.relu(tf.matmul(tf_test_dataset, W1)+b1)\n",
    "    test_prediction = tf.nn.softmax(tf.matmul(test_activ, W2)+b2)"
   ]
  },
  {
   "cell_type": "code",
   "execution_count": 52,
   "metadata": {},
   "outputs": [
    {
     "name": "stdout",
     "output_type": "stream",
     "text": [
      "Initialized\n",
      "Minibatch loss at step 0: 677.348572\n",
      "Minibatch accuracy: 9.4%\n",
      "validation accuracy: 33.0%\n",
      "Minibatch loss at step 500: 198.209396\n",
      "Minibatch accuracy: 78.1%\n",
      "validation accuracy: 79.7%\n",
      "Minibatch loss at step 1000: 116.557693\n",
      "Minibatch accuracy: 78.1%\n",
      "validation accuracy: 80.2%\n",
      "Minibatch loss at step 1500: 69.096596\n",
      "Minibatch accuracy: 81.2%\n",
      "validation accuracy: 82.5%\n",
      "Minibatch loss at step 2000: 41.806065\n",
      "Minibatch accuracy: 82.0%\n",
      "validation accuracy: 84.1%\n",
      "Minibatch loss at step 2500: 25.243937\n",
      "Minibatch accuracy: 85.2%\n",
      "validation accuracy: 85.4%\n",
      "Minibatch loss at step 3000: 15.715542\n",
      "Minibatch accuracy: 81.2%\n",
      "validation accuracy: 86.4%\n",
      "Test accuracy: 92.1%\n"
     ]
    }
   ],
   "source": [
    "num_steps = 3001\n",
    "\n",
    "with tf.Session(graph=graph) as session:\n",
    "    tf.global_variables_initializer().run()\n",
    "    print(\"Initialized\")\n",
    "    for step in range(num_steps):\n",
    "        # pick offset for random batch\n",
    "        offset = (step * batch_size) % (train_labels.shape[0] - batch_size)\n",
    "        # generate minibatch\n",
    "        batch_data = train_dataset[offset:(offset+batch_size),:]\n",
    "        batch_labels = train_labels[offset:(offset+batch_size),:]\n",
    "        feed_dict = {tf_train_dataset:batch_data, tf_train_labels:batch_labels, lamda:0.001, keep_prob:0.7}\n",
    "        \n",
    "        _, l, predict = session.run([Optimizer, loss, train_prediction], feed_dict = feed_dict)\n",
    "        \n",
    "        if (step%500 == 0):\n",
    "            print(\"Minibatch loss at step %d: %f\" % (step, l))\n",
    "            print(\"Minibatch accuracy: %.1f%%\" % accuracy(predict, batch_labels))\n",
    "            print(\"validation accuracy: %.1f%%\" % accuracy(valid_prediction.eval(), valid_labels))\n",
    "    print(\"Test accuracy: %.1f%%\" % accuracy(test_prediction.eval(), test_labels))"
   ]
  },
  {
   "cell_type": "markdown",
   "metadata": {
    "colab_type": "text",
    "id": "-b1hTz3VWZjw"
   },
   "source": [
    "---\n",
    "Problem 4\n",
    "---------\n",
    "\n",
    "Try to get the best performance you can using a multi-layer model! The best reported test accuracy using a deep network is [97.1%](http://yaroslavvb.blogspot.com/2011/09/notmnist-dataset.html?showComment=1391023266211#c8758720086795711595).\n",
    "\n",
    "One avenue you can explore is to add multiple layers.\n",
    "\n",
    "Another one is to use learning rate decay:\n",
    "\n",
    "    global_step = tf.Variable(0)  # count the number of steps taken.\n",
    "    learning_rate = tf.train.exponential_decay(0.5, global_step, ...)\n",
    "    optimizer = tf.train.GradientDescentOptimizer(learning_rate).minimize(loss, global_step=global_step)\n",
    " \n",
    " ---\n"
   ]
  },
  {
   "cell_type": "code",
   "execution_count": 63,
   "metadata": {},
   "outputs": [],
   "source": [
    "#neural network with multi-layers & decay learning rate\n",
    "batch_size = 128\n",
    "hidden_nodes_1 = 1024\n",
    "hidden_nodes_2 = 512\n",
    "hidden_nodes_3 = 128\n",
    "\n",
    "graph = tf.Graph()\n",
    "with graph.as_default():\n",
    "    # input data, for the traning data, we use placeholder\n",
    "    tf_train_dataset = tf.placeholder(tf.float32, shape = (batch_size, image_size*image_size))\n",
    "    tf_train_labels = tf.placeholder(tf.float32, shape = (batch_size, num_labels))\n",
    "    tf_valid_dataset = tf.constant(valid_dataset)\n",
    "    tf_test_dataset = tf.constant(test_dataset)\n",
    "    \n",
    "    # Variables: init wights and bias\n",
    "    # Variables.\n",
    "    W1 = tf.Variable(tf.truncated_normal([image_size * image_size, hidden_nodes_1], stddev=np.sqrt(2.0 / (image_size * image_size))))\n",
    "    b1 = tf.Variable(tf.zeros([hidden_nodes_1]))\n",
    "\n",
    "    W2 = tf.Variable(tf.truncated_normal([hidden_nodes_1, hidden_nodes_2], stddev=np.sqrt(2.0 / hidden_nodes_1)))\n",
    "    b2 = tf.Variable(tf.zeros([hidden_nodes_2]))\n",
    "    \n",
    "    W3 = tf.Variable(tf.truncated_normal([hidden_nodes_2, hidden_nodes_3], stddev=np.sqrt(2.0 / hidden_nodes_2)))\n",
    "    b3 = tf.Variable(tf.zeros([hidden_nodes_3]))\n",
    "    \n",
    "    W4 = tf.Variable(tf.truncated_normal([hidden_nodes_3, num_labels], stddev=np.sqrt(2.0 / hidden_nodes_3)))\n",
    "    b4 = tf.Variable(tf.zeros([num_labels]))\n",
    "    \n",
    "    lamda = tf.placeholder(tf.float32)\n",
    "    keep_prob = tf.placeholder(tf.float32)\n",
    "    global_step = tf.Variable(0)  # count the number of steps taken.\n",
    "\n",
    "    # training computation\n",
    "    A1 = tf.nn.relu(tf.add(tf.matmul(tf_train_dataset, W1), b1))\n",
    "    A1 = tf.nn.dropout(A1, keep_prob)\n",
    "    A2 = tf.nn.relu(tf.add(tf.matmul(A1, W2), b2))\n",
    "    A2 = tf.nn.dropout(A2, keep_prob)\n",
    "    A3 = tf.nn.relu(tf.add(tf.matmul(A2, W3), b3))\n",
    "    A3 = tf.nn.dropout(A3, keep_prob)\n",
    "\n",
    "    logits = tf.add(tf.matmul(A3, W4), b4)\n",
    "    loss = tf.reduce_mean(tf.nn.softmax_cross_entropy_with_logits(\n",
    "           labels = tf_train_labels, logits = logits))+lamda*(tf.nn.l2_loss(W1)+tf.nn.l2_loss(W2)+tf.nn.l2_loss(W3)+tf.nn.l2_loss(W4))\n",
    "    \n",
    "    # optimizer\n",
    "    learning_rate = tf.train.exponential_decay(0.5, global_step, 500, 0.9)\n",
    "    if(global_step%100 == 0):\n",
    "        print(global_step)\n",
    "    Optimizer = tf.train.GradientDescentOptimizer(learning_rate).minimize(loss, global_step=global_step)\n",
    "    #Optimizer = tf.train.GradientDescentOptimizer(0.5).minimize(loss)\n",
    "    \n",
    "    # predictions for train, valid, test data\n",
    "    train_prediction = tf.nn.softmax(logits)\n",
    "    # validation & test should be not dropout\n",
    "    valid_A1 = tf.nn.relu(tf.add(tf.matmul(tf_valid_dataset, W1), b1))\n",
    "    valid_A2 = tf.nn.relu(tf.add(tf.matmul(valid_A1, W2), b2))\n",
    "    valid_activ = tf.nn.relu(tf.add(tf.matmul(valid_A2, W3), b3))\n",
    "    valid_prediction = tf.nn.softmax(tf.matmul(valid_activ, W4)+b4)\n",
    "    test_A1 = tf.nn.relu(tf.add(tf.matmul(tf_test_dataset, W1), b1))\n",
    "    test_A2 = tf.nn.relu(tf.add(tf.matmul(test_A1, W2), b2))\n",
    "    test_activ = tf.nn.relu(tf.add(tf.matmul(test_A2, W3), b3))\n",
    "    test_prediction = tf.nn.softmax(tf.matmul(test_activ, W4)+b4)"
   ]
  },
  {
   "cell_type": "code",
   "execution_count": 67,
   "metadata": {},
   "outputs": [
    {
     "name": "stdout",
     "output_type": "stream",
     "text": [
      "Initialized\n",
      "Minibatch loss at step 0: 4.195601\n",
      "Minibatch accuracy: 7.8%\n",
      "validation accuracy: 18.4%\n",
      "Minibatch loss at step 500: 1.532088\n",
      "Minibatch accuracy: 79.7%\n",
      "validation accuracy: 84.1%\n",
      "Minibatch loss at step 1000: 1.276944\n",
      "Minibatch accuracy: 82.0%\n",
      "validation accuracy: 84.9%\n",
      "Minibatch loss at step 1500: 0.954776\n",
      "Minibatch accuracy: 83.6%\n",
      "validation accuracy: 86.2%\n",
      "Minibatch loss at step 2000: 0.917501\n",
      "Minibatch accuracy: 81.2%\n",
      "validation accuracy: 86.5%\n",
      "Minibatch loss at step 2500: 0.801839\n",
      "Minibatch accuracy: 85.2%\n",
      "validation accuracy: 87.1%\n",
      "Minibatch loss at step 3000: 0.865439\n",
      "Minibatch accuracy: 82.0%\n",
      "validation accuracy: 87.0%\n",
      "Minibatch loss at step 3500: 0.621135\n",
      "Minibatch accuracy: 87.5%\n",
      "validation accuracy: 87.2%\n",
      "Minibatch loss at step 4000: 0.663865\n",
      "Minibatch accuracy: 85.2%\n",
      "validation accuracy: 87.9%\n",
      "Minibatch loss at step 4500: 0.488170\n",
      "Minibatch accuracy: 91.4%\n",
      "validation accuracy: 88.2%\n",
      "Minibatch loss at step 5000: 0.593184\n",
      "Minibatch accuracy: 89.1%\n",
      "validation accuracy: 88.4%\n",
      "Minibatch loss at step 5500: 0.695891\n",
      "Minibatch accuracy: 82.8%\n",
      "validation accuracy: 88.8%\n",
      "Minibatch loss at step 6000: 0.661321\n",
      "Minibatch accuracy: 85.9%\n",
      "validation accuracy: 88.9%\n",
      "Minibatch loss at step 6500: 0.570876\n",
      "Minibatch accuracy: 85.2%\n",
      "validation accuracy: 89.2%\n",
      "Minibatch loss at step 7000: 0.686997\n",
      "Minibatch accuracy: 85.2%\n",
      "validation accuracy: 89.3%\n",
      "Minibatch loss at step 7500: 0.457309\n",
      "Minibatch accuracy: 89.1%\n",
      "validation accuracy: 89.3%\n",
      "Minibatch loss at step 8000: 0.575572\n",
      "Minibatch accuracy: 88.3%\n",
      "validation accuracy: 89.4%\n",
      "Test accuracy: 94.4%\n"
     ]
    }
   ],
   "source": [
    "num_steps = 8001\n",
    "\n",
    "with tf.Session(graph=graph) as session:\n",
    "    tf.global_variables_initializer().run()\n",
    "    print(\"Initialized\")\n",
    "    for step in range(num_steps):\n",
    "        # pick offset for random batch\n",
    "        offset = (step * batch_size) % (train_labels.shape[0] - batch_size)\n",
    "        # generate minibatch\n",
    "        batch_data = train_dataset[offset:(offset+batch_size),:]\n",
    "        batch_labels = train_labels[offset:(offset+batch_size),:]\n",
    "        feed_dict = {tf_train_dataset:batch_data, tf_train_labels:batch_labels, lamda:0.001, keep_prob:0.5}\n",
    "        \n",
    "        _, l, predict = session.run([Optimizer, loss, train_prediction], feed_dict = feed_dict)\n",
    "        \n",
    "        if (step%500 == 0):\n",
    "            print(\"Minibatch loss at step %d: %f\" % (step, l))\n",
    "            print(\"Minibatch accuracy: %.1f%%\" % accuracy(predict, batch_labels))\n",
    "            print(\"validation accuracy: %.1f%%\" % accuracy(valid_prediction.eval(), valid_labels))\n",
    "    print(\"Test accuracy: %.1f%%\" % accuracy(test_prediction.eval(), test_labels))"
   ]
  },
  {
   "cell_type": "code",
   "execution_count": null,
   "metadata": {},
   "outputs": [],
   "source": []
  }
 ],
 "metadata": {
  "colab": {
   "default_view": {},
   "name": "3_regularization.ipynb",
   "provenance": [],
   "version": "0.3.2",
   "views": {}
  },
  "kernelspec": {
   "display_name": "TFpython 2",
   "language": "python",
   "name": "tfkernel"
  },
  "language_info": {
   "codemirror_mode": {
    "name": "ipython",
    "version": 2
   },
   "file_extension": ".py",
   "mimetype": "text/x-python",
   "name": "python",
   "nbconvert_exporter": "python",
   "pygments_lexer": "ipython2",
   "version": "2.7.12"
  }
 },
 "nbformat": 4,
 "nbformat_minor": 1
}
